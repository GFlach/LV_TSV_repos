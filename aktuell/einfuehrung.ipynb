{
 "cells": [
  {
   "cell_type": "markdown",
   "metadata": {},
   "source": [
    "[Table of Contents](table_of_contents.ipynb)"
   ]
  },
  {
   "cell_type": "code",
   "execution_count": null,
   "metadata": {
    "collapsed": true
   },
   "outputs": [],
   "source": [
    "%matplotlib\n",
    "%pylab inline\n",
    "import numpy as np\n",
    "import matplotlib.pyplot as plt"
   ]
  },
  {
   "cell_type": "markdown",
   "metadata": {},
   "source": [
    "## 1 Einführung\n",
    "Die Lehrveranstaltung Technische Sprachverarbeitung soll einen einführenden Überblick in verschiedene Problemstellungen bei der automatischen Erkennung und Verarbeitung gesprochener Sprache geben. Zu ausgewählten Abschnitten werden neben den Übungsaufgaben praktische Übungen in Jupyter-Notebooks durchgeführt. Die Programmierung erfolgt in Python. Eine fundierte Beherrschung dieser Sprache ist nicht erforderlich, da für größere Verarbeitungsschritte fertige Funktionen bereitgestellt werden. Weiterhin weist die benötigte Funktionalität der Programmiersprache meist sehr große Ähnlichkeit mit MATLAB auf."
   ]
  },
  {
   "cell_type": "markdown",
   "metadata": {
    "collapsed": true
   },
   "source": [
    "### 1.1 Einsatz technischer Spracherkennung"
   ]
  },
  {
   "cell_type": "markdown",
   "metadata": {
    "collapsed": true
   },
   "source": [
    "### 1.2 Gegenstand der technischen Spracherkennung\n",
    "#### Beispieldialog\n",
    "<img src=\"images/beispieldialog.jpg\" height=\"300\" width=\"600\" style=\"float: left;\">"
   ]
  },
  {
   "cell_type": "markdown",
   "metadata": {},
   "source": [
    "<img src=\"images/gegenstand_tsv.jpg\" height=\"300\" width=\"600\"  style=\"float: left;\">"
   ]
  },
  {
   "cell_type": "markdown",
   "metadata": {},
   "source": [
    "### 1.3 Teilgebiete der technischen Spracherkennung\n",
    "Warum ist Sprachverarbeitung schwierig?\n",
    "\n",
    "<img src=\"images/warum_schwierig.jpg\" height=\"300\" width=\"600\"  style=\"float: left;\">"
   ]
  },
  {
   "cell_type": "markdown",
   "metadata": {},
   "source": [
    "### 1.4 Aufbau von Spracherkennungssystemen\n",
    "<img src=\"images/fundamentalformel.jpg\" height=\"300\" width=\"600\"  style=\"float: left;\">"
   ]
  },
  {
   "cell_type": "markdown",
   "metadata": {},
   "source": [
    "### 1.5 Wissensquellen für Sprachverarbeitungssysteme\n",
    "<img src=\"images/wissensquellen.jpg\" height=\"300\" width=\"600\"  style=\"float: left;\">"
   ]
  }
 ],
 "metadata": {
  "kernelspec": {
   "display_name": "Python 3",
   "language": "python",
   "name": "python3"
  },
  "language_info": {
   "codemirror_mode": {
    "name": "ipython",
    "version": 3
   },
   "file_extension": ".py",
   "mimetype": "text/x-python",
   "name": "python",
   "nbconvert_exporter": "python",
   "pygments_lexer": "ipython3",
   "version": "3.6.0"
  }
 },
 "nbformat": 4,
 "nbformat_minor": 1
}
