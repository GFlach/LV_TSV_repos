{
 "cells": [
  {
   "cell_type": "markdown",
   "metadata": {},
   "source": [
    "[Aufgaben](merkmale_aufgaben.ipynb)"
   ]
  },
  {
   "cell_type": "code",
   "execution_count": null,
   "metadata": {
    "collapsed": false
   },
   "outputs": [],
   "source": [
    "%matplotlib inline\n",
    "%pylab inline\n",
    "import matplotlib.pyplot as plt"
   ]
  },
  {
   "cell_type": "code",
   "execution_count": null,
   "metadata": {
    "collapsed": true
   },
   "outputs": [],
   "source": [
    "import numpy as np\n",
    "import scipy.constants as const\n",
    "import scipy\n",
    "from scipy.io import wavfile\n",
    "from pylab import *\n",
    "from scipy.fftpack import fft, ifft\n",
    "from IPython.display import Audio"
   ]
  },
  {
   "cell_type": "markdown",
   "metadata": {},
   "source": [
    "#### Aufgabe 1"
   ]
  },
  {
   "cell_type": "markdown",
   "metadata": {},
   "source": [
    "Das Signal liegt als .wav-Datei vor. Die Bibliothek scipy stellt Methoden zur \n",
    "Ein- und Ausgabe von .wav-Files bereit. Zur Interpretation der Daten ist die \n",
    "Abtastfrequenz und die Bitbreite erforderlich. Die Daten stehen als Array zur Verfügung. Die Abtastfrequenz wird der Variablen <span style=\"font-family:Courier\">fs</span> zugewiesen, \n",
    "die Daten stehen unter <span style=\"font-family:Courier\">numarray</span>.\n",
    "Die Anzeige der Werte erfolgt durch Eingabe der Variablennamen.\n",
    "\n",
    "Stellen Sie drei verschiedene Ausschnitte des Signals von je 25, 50 und 100 ms Dauer dar! Wählen \n",
    "Sie die Zeitfenster so aus, dass möglichst charakteristische Abschnitte dargestellt werden.\n",
    "Die Darstellungen werden unter <span style=\"font-family:Courier\">dateiname_..ms.png</span> abgespeichert."
   ]
  },
  {
   "cell_type": "markdown",
   "metadata": {},
   "source": [
    "#### <font color=\"#FF0000\">Eingabezelle</font>"
   ]
  },
  {
   "cell_type": "code",
   "execution_count": null,
   "metadata": {
    "collapsed": true
   },
   "outputs": [],
   "source": [
    "auswahl = '57'"
   ]
  },
  {
   "cell_type": "code",
   "execution_count": null,
   "metadata": {
    "collapsed": false
   },
   "outputs": [],
   "source": [
    "file_name = 'sound/' + auswahl + '.wav'\n",
    "fs, numarray = wavfile.read(file_name)\n",
    "plt.plot(numarray)\n",
    "#numarray = numarray/max(abs(numarray))"
   ]
  },
  {
   "cell_type": "markdown",
   "metadata": {},
   "source": [
    "#### <font color=\"#FF0000\">Eingabezelle</font>"
   ]
  },
  {
   "cell_type": "code",
   "execution_count": null,
   "metadata": {
    "collapsed": true
   },
   "outputs": [],
   "source": [
    "zf = 0.05   #Zeitfensterlänge\n",
    "atw_zf1 = 10500    #Start ZF1\n",
    "atw_zf2 = 11000    #Start ZF2\n",
    "atw_zf3 = 18000    #Start ZF3"
   ]
  },
  {
   "cell_type": "code",
   "execution_count": null,
   "metadata": {
    "collapsed": false
   },
   "outputs": [],
   "source": [
    "t = np.arange(len(numarray))\n",
    "plt.figure(figsize=(10,6))\n",
    "subplot(311)\n",
    "n = int(round(zf * fs))\n",
    "title_name = 'ZF-Länge ' + str(int(zf*1000)) + 'ms'\n",
    "title(title_name)\n",
    "plot(t[atw_zf1:atw_zf1+n], numarray[atw_zf1:atw_zf1+n])\n",
    "subplot(312)\n",
    "plot(t[atw_zf2:atw_zf2+n], numarray[atw_zf2:atw_zf2+n])\n",
    "subplot(313)\n",
    "plot(t[atw_zf3:atw_zf3+n], numarray[atw_zf3:atw_zf3+n])\n",
    "fig_name = auswahl + '_' + str(int(zf*1000)) + 'ms.png'\n",
    "savefig(fig_name)"
   ]
  },
  {
   "cell_type": "markdown",
   "metadata": {},
   "source": [
    "#### Betragsspektrum für die Zeitfensterausschnitte\n",
    "Für diese Zeitfenster wird das Betragsspektrum ermittelt und dargestellt.\n",
    "Die Darstellungen werden unter <span style=\"font-family:Courier\">dateiname_..hz.png</span> abgespeichert."
   ]
  },
  {
   "cell_type": "code",
   "execution_count": null,
   "metadata": {
    "collapsed": true
   },
   "outputs": [],
   "source": [
    "y = abs(fft(numarray[int(atw_zf1):int(atw_zf1)+n]))\n",
    "f = np.linspace(0,fs/2,int(np.round(n/2)))"
   ]
  },
  {
   "cell_type": "code",
   "execution_count": null,
   "metadata": {
    "collapsed": false
   },
   "outputs": [],
   "source": [
    "plt.figure(figsize=(10,8))\n",
    "subplot(311)\n",
    "plot(f,y[0:len(f)])\n",
    "title_name = 'Spektrum, Frequenzauflösung ' + str(int(1/zf)) + 'Hz'\n",
    "title(title_name)\n",
    "subplot(312)\n",
    "y = abs(fft(numarray[atw_zf2:atw_zf2+n]))\n",
    "plot(f,y[0:len(f)])\n",
    "subplot(313)\n",
    "y = abs(fft(numarray[atw_zf3:atw_zf3+n]))\n",
    "plot(f,y[0:len(f)])\n",
    "fig_name = auswahl + '_' + str(int(1/zf)) + 'Hz.png' \n",
    "savefig(fig_name)"
   ]
  },
  {
   "cell_type": "markdown",
   "metadata": {},
   "source": [
    "#### Untersuchung unterschiedlicher Zeitfensterbewertungsfunktionen \n",
    "Folgende Zeitfensterformen stehen zur Bewertung der Signalabschnitte zur Verfügung."
   ]
  },
  {
   "cell_type": "code",
   "execution_count": null,
   "metadata": {
    "collapsed": false
   },
   "outputs": [],
   "source": [
    "plt.figure(figsize=(10,3))\n",
    "subplot(131)\n",
    "title('Hanningfenster')\n",
    "plot(hanning(n))\n",
    "subplot(132)\n",
    "title('Hammingfenster')\n",
    "plot(hamming(n))\n",
    "subplot(133)\n",
    "title('Bartlettfenster')\n",
    "plot(bartlett(n))"
   ]
  },
  {
   "cell_type": "markdown",
   "metadata": {},
   "source": [
    "Die ausgewählten Zeitfenster werden mit unterschiedlichen Fensterfunktionen bewertet und in den Frequenzbereich transformiert. Die Ergebnisse im Zeit- und Frequenzbereich werden gespeichert."
   ]
  },
  {
   "cell_type": "markdown",
   "metadata": {},
   "source": [
    "#### <font color=\"#FF0000\">Eingabezelle</font>"
   ]
  },
  {
   "cell_type": "code",
   "execution_count": null,
   "metadata": {
    "collapsed": true
   },
   "outputs": [],
   "source": [
    "window = hanning(n)\n",
    "wform = 'Hanning'\n",
    "#window = hamming(n)\n",
    "#wform = 'Hamming'\n",
    "#window = bartlett(n)\n",
    "#wform = 'Bartlett'"
   ]
  },
  {
   "cell_type": "code",
   "execution_count": null,
   "metadata": {
    "collapsed": false
   },
   "outputs": [],
   "source": [
    "plt.figure(figsize=(10,8))\n",
    "subplot(311)\n",
    "title_name = 'ZF-Länge ' + str(int(zf*1000)) + 'ms, ' + wform + '-Fenster'\n",
    "title(title_name)\n",
    "wdat1 = window * numarray[atw_zf1:atw_zf1+n]\n",
    "wdat2 = window * numarray[atw_zf2:atw_zf2+n]\n",
    "wdat3 = window * numarray[atw_zf3:atw_zf3+n]\n",
    "plot(t[atw_zf1:atw_zf1+n], wdat1)\n",
    "subplot(312)\n",
    "plot(t[atw_zf2:atw_zf2+n], wdat2)\n",
    "subplot(313)\n",
    "plot(t[atw_zf3:atw_zf3+n], wdat3)\n",
    "fig_name = auswahl + '_' + str(int(zf*1000)) + 'ms_' + wform + '.png'\n",
    "savefig(fig_name)"
   ]
  },
  {
   "cell_type": "code",
   "execution_count": null,
   "metadata": {
    "collapsed": false
   },
   "outputs": [],
   "source": [
    "y = abs(fft(wdat1))\n",
    "plt.figure(figsize=(10,8))\n",
    "subplot(311)\n",
    "plot(f,y[0:len(f)])\n",
    "title_name = 'Spektrum, Frequenzauflösung ' + str(int(1/zf)) + 'Hz mit ' + wform + '-Fenster'\n",
    "title(title_name)\n",
    "subplot(312)\n",
    "y = abs(fft(wdat2))\n",
    "plot(f,y[0:len(f)])\n",
    "subplot(313)\n",
    "y = abs(fft(wdat3))\n",
    "plot(f,y[0:len(f)])\n",
    "fig_name = auswahl + '_' + str(int(1/zf)) + 'Hz_' + wform + '.png' \n",
    "savefig(fig_name)"
   ]
  },
  {
   "cell_type": "markdown",
   "metadata": {},
   "source": [
    "#### Spektrum des vollständigen Signals"
   ]
  },
  {
   "cell_type": "code",
   "execution_count": null,
   "metadata": {
    "collapsed": false
   },
   "outputs": [],
   "source": [
    "y = abs(fft(numarray))\n",
    "plt.figure(figsize=(10,5))\n",
    "f = np.linspace(0,fs,len(numarray))\n",
    "zf = len(numarray)/fs\n",
    "plot(f,y)\n",
    "title_name = 'Spektrum Gesamtsignal, Frequenzauflösung ' + str((round(1/zf*100))/100) + 'Hz'\n",
    "title(title_name)\n"
   ]
  },
  {
   "cell_type": "markdown",
   "metadata": {},
   "source": [
    "#### Kurzzeitspektrum des Signals"
   ]
  },
  {
   "cell_type": "markdown",
   "metadata": {},
   "source": [
    "Untersuchen Sie die Auswirkungen von \n",
    "* Zeitfensterlänge\n",
    "* Überlappung\n",
    "* Zeitfensterform \n",
    "\n",
    "auf das Analyseergebnis"
   ]
  },
  {
   "cell_type": "code",
   "execution_count": null,
   "metadata": {
    "collapsed": true
   },
   "outputs": [],
   "source": [
    "atw_zf = 128 # Anz. Abtastwerte im Zeitfenster\n",
    "fsr = 64 # Überlappung"
   ]
  },
  {
   "cell_type": "code",
   "execution_count": null,
   "metadata": {
    "collapsed": false
   },
   "outputs": [],
   "source": [
    "plt.figure(figsize=(12,10))\n",
    "subplot(211)\n",
    "# Zeitfensterform\n",
    "zff = mlab.window_hanning\n",
    "#zff = None\n",
    "#zff = bartlett(atw_zf)\n",
    "# Zeitfenstername\n",
    "zfn = ' Hanning'\n",
    "#zfn = ' Rechteck'\n",
    "#zfn = ' Bartlett'\n",
    "specgram(numarray, NFFT=atw_zf, Fs=fs, noverlap=fsr, cmap=None, window = zff)\n",
    "name = 'Kurzzeitspektrum ' + file_name + zfn + 'fenster'\n",
    "title(name)\n",
    "\n",
    "subplot(212)\n",
    "# Anz. Abtastwerte im Zeitfenster\n",
    "# Zeitfensterform\n",
    "#zff = mlab.window_hanning\n",
    "zff = None\n",
    "#zff = bartlett(atw_zf)\n",
    "# Zeitfenstername\n",
    "#zfn = ' Hanning'\n",
    "zfn = ' Rechteck'\n",
    "#zfn = ' Bartlett'\n",
    "specgram(numarray, NFFT=atw_zf, Fs=fs, noverlap=fsr, cmap=None, window=zff)\n",
    "name = 'Kurzzeitspektrum ' + file_name + zfn + 'fenster'\n",
    "title(name)"
   ]
  },
  {
   "cell_type": "markdown",
   "metadata": {},
   "source": [
    "#### Spektren für stationäre Abschnitte\n",
    "Aus den Kurzzeitspektren können stationäre, für einen Laut typische Abschnitte ermittelt werden.\n",
    "Suchen Sie typische Abschnitte heraus und stellen Sie das Betragsspektrum mit einer geeigneten \n",
    "Zeitfensterlänge dar."
   ]
  },
  {
   "cell_type": "code",
   "execution_count": null,
   "metadata": {
    "collapsed": true
   },
   "outputs": [],
   "source": [
    "# Abtastwert in der Mitte des Zeitfensters\n",
    "zeitmarke = 0.45\n",
    "zf_laenge = 256"
   ]
  },
  {
   "cell_type": "code",
   "execution_count": null,
   "metadata": {
    "collapsed": false
   },
   "outputs": [],
   "source": [
    "plt.figure(figsize=(10,5))\n",
    "m_atw = zeitmarke * fs\n",
    "atw1 = round(m_atw) - round(zf_laenge/2)\n",
    "atw2 = atw1 + zf_laenge\n",
    "asp_typ = abs(fft(numarray[atw1:atw2]))/zf_laenge\n",
    "f_typ = np.linspace(0,fs,len(asp_typ))\n",
    "plot(f_typ, asp_typ)"
   ]
  },
  {
   "cell_type": "markdown",
   "metadata": {},
   "source": [
    "#### Weiterführende Aufgaben\n",
    "\n",
    "- Codieren Sie die wav-Dateien vor der Bearbeitung so um, dass die Ergebnisse vergleichbar werden!\n",
    "- Was wäre dazu erforderlich?\n",
    "- Ermitteln Sie eine Amplitudenstatistik für die wav-Dateien!"
   ]
  }
 ],
 "metadata": {
  "kernelspec": {
   "display_name": "Python 3",
   "language": "python",
   "name": "python3"
  },
  "language_info": {
   "codemirror_mode": {
    "name": "ipython",
    "version": 3
   },
   "file_extension": ".py",
   "mimetype": "text/x-python",
   "name": "python",
   "nbconvert_exporter": "python",
   "pygments_lexer": "ipython3",
   "version": "3.6.0"
  }
 },
 "nbformat": 4,
 "nbformat_minor": 1
}
