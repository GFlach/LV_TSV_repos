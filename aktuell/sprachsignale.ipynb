{
 "cells": [
  {
   "cell_type": "markdown",
   "metadata": {},
   "source": [
    "[Table of Contents](table_of_contents.ipynb)"
   ]
  },
  {
   "cell_type": "markdown",
   "metadata": {},
   "source": [
    "## 3 Sprachsignale"
   ]
  },
  {
   "cell_type": "markdown",
   "metadata": {},
   "source": [
    "### 3.1 Sprachproduktion\n",
    "#### Artikulationstrakt\n",
    "<img src=\"images/artikulationstrakt.jpg\" height=\"300\" width=\"600\" style=\"float: left;\">"
   ]
  },
  {
   "cell_type": "markdown",
   "metadata": {},
   "source": [
    "#### Artikulationsorte\n",
    "<img src=\"images/artikulationsorte.jpg\" height=\"300\" width=\"500\" style=\"float: left;\">"
   ]
  },
  {
   "cell_type": "markdown",
   "metadata": {},
   "source": [
    "#### Lautgruppen\n",
    "<img src=\"images/lautgruppen.jpg\" height=\"300\" width=\"500\" style=\"float: left;\">"
   ]
  },
  {
   "cell_type": "markdown",
   "metadata": {},
   "source": [
    "#### Zungenstellung für Vokale\n",
    "<img src=\"images/zungenhoehe.jpg\" height=\"300\" width=\"600\" style=\"float: left;\">\n",
    "\n",
    "\n",
    "<img src=\"images/zungenlage.jpg\" height=\"300\" width=\"600\" style=\"float: left;\">"
   ]
  },
  {
   "cell_type": "markdown",
   "metadata": {},
   "source": [
    "#### Artikulationsorte Konsonanten\n",
    "<img src=\"images/artikulationsort.jpg\" height=\"300\" width=\"600\" style=\"float: left;\">"
   ]
  },
  {
   "cell_type": "markdown",
   "metadata": {},
   "source": [
    "#### Artikulationsarten Konsonanten\n",
    "<img src=\"images/artikulationsart.jpg\" height=\"300\" width=\"600\" style=\"float: left;\">"
   ]
  },
  {
   "cell_type": "markdown",
   "metadata": {},
   "source": [
    "#### SAMPA deutsch\n",
    "<img src=\"images/sampa.jpg\" height=\"300\" width=\"600\" style=\"float: left;\">"
   ]
  },
  {
   "cell_type": "markdown",
   "metadata": {},
   "source": [
    "### 3.2 Sprachperzeption\n",
    "<img src=\"images/aufbau_ohr.jpg\" height=\"300\" width=\"600\" style=\"float: left;\">\n",
    "<img src=\"images/coch1.jpg\" height=\"300\" width=\"600\" style=\"float: left;\">\n",
    "<img src=\"images/frequenzgruppen_tonheit.jpg\" height=\"300\" width=\"600\" style=\"float: left;\">\n",
    "<img src=\"images/schwingungen_cochlea.jpg\" height=\"300\" width=\"600\" style=\"float: left;\">\n",
    "<img src=\"images/hoerflaeche.jpg\" height=\"300\" width=\"600\" style=\"float: left;\">\n",
    "<img src=\"images/gleichelautheit.jpg\" height=\"300\" width=\"600\" style=\"float: left;\">\n",
    "<img src=\"images/formant_i.jpg\" height=\"300\" width=\"600\" style=\"float: left;\">\n",
    "<img src=\"images/formantkarte.jpg\" height=\"300\" width=\"600\" style=\"float: left;\">\n",
    "<img src=\"images/verdeckung2.jpg\" height=\"300\" width=\"600\" style=\"float: left;\">\n",
    "<img src=\"images/verdeckung1.jpg\" height=\"300\" width=\"600\" style=\"float: left;\">"
   ]
  },
  {
   "cell_type": "markdown",
   "metadata": {},
   "source": [
    "### 3.3 Modell der Sprachproduktion"
   ]
  },
  {
   "cell_type": "markdown",
   "metadata": {},
   "source": [
    "### 3.4 Darstellung von Sprachsignalen\n",
    "<img src=\"images/zeit_frequenz.jpg\" height=\"300\" width=\"600\" style=\"float: left;\">"
   ]
  },
  {
   "cell_type": "markdown",
   "metadata": {},
   "source": [
    "[Aufgaben Sprachsignale](sprachsignale_aufgaben.ipynb)"
   ]
  }
 ],
 "metadata": {
  "kernelspec": {
   "display_name": "Python 3",
   "language": "python",
   "name": "python3"
  },
  "language_info": {
   "codemirror_mode": {
    "name": "ipython",
    "version": 3
   },
   "file_extension": ".py",
   "mimetype": "text/x-python",
   "name": "python",
   "nbconvert_exporter": "python",
   "pygments_lexer": "ipython3",
   "version": "3.6.5"
  }
 },
 "nbformat": 4,
 "nbformat_minor": 1
}
