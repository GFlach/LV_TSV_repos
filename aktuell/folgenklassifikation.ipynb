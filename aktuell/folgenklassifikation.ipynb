{
 "cells": [
  {
   "cell_type": "markdown",
   "metadata": {},
   "source": [
    "[Table of Contents](table_of_contents.ipynb)"
   ]
  },
  {
   "cell_type": "code",
   "execution_count": null,
   "metadata": {
    "collapsed": true
   },
   "outputs": [],
   "source": [
    "%matplotlib\n",
    "%pylab inline\n",
    "import numpy as np\n",
    "import matplotlib.pyplot as plt"
   ]
  },
  {
   "cell_type": "markdown",
   "metadata": {},
   "source": [
    "## 6 Folgenklassifikation"
   ]
  },
  {
   "cell_type": "markdown",
   "metadata": {
    "collapsed": true
   },
   "source": [
    "#### 6.1 Dynamische Optimierung\n",
    "#### 6.2 Hidden Markov Modelle\n",
    "Die in 6.2 dargestellten Bilder sind größtenteils entnommen aus:\n",
    "\n",
    "Pfister, Kaufmann: Sprachverarbeitung; Springer-Verlag 2008\n",
    "##### 6.2.1 HMMs für die Spracherkennung\n",
    "allgemein:\n",
    "\n",
    "<img src=\"images/hmm.jpg\" height=\"300\" width=\"500\" style=\"float: left;\">"
   ]
  },
  {
   "cell_type": "markdown",
   "metadata": {},
   "source": [
    "lineares Modell:\n",
    "\n",
    "<img src=\"images/hmm_linmod.jpg\" height=\"300\" width=\"400\" style=\"float: left;\">"
   ]
  },
  {
   "cell_type": "markdown",
   "metadata": {},
   "source": [
    "Links-Rechts-Modell:\n",
    "\n",
    "<img src=\"images/hmm_liremod.jpg\" height=\"300\" width=\"400\" style=\"float: left;\">"
   ]
  },
  {
   "cell_type": "markdown",
   "metadata": {},
   "source": [
    "Bakismodell:\n",
    "\n",
    "<img src=\"images/hmm_bakismod.jpg\" height=\"300\" width=\"400\" style=\"float: left;\">"
   ]
  },
  {
   "cell_type": "markdown",
   "metadata": {
    "collapsed": true
   },
   "source": [
    "##### 6.2.2 Diskrete und kontinuierliche HMM\n",
    "<img src=\"images/hmm_emission1.jpg\" height=\"300\" width=\"400\" style=\"float: left;\">\n"
   ]
  },
  {
   "cell_type": "markdown",
   "metadata": {},
   "source": [
    "Beispiel: 2-dimensionale Merkmale, diskrete Emissionen (nach Vektorquantisierung)\n",
    "\n",
    "<img src=\"images/hmm_dd.jpg\" height=\"300\" width=\"500\" style=\"float: left;\">"
   ]
  },
  {
   "cell_type": "markdown",
   "metadata": {},
   "source": [
    "Beispiel: 2-dimensionale Merkmale, kontinuierliche Emissionen (nach Vektorquantisierung)\n",
    "\n",
    "<img src=\"images/hmm_cd.jpg\" height=\"300\" width=\"500\" style=\"float: left;\">"
   ]
  },
  {
   "cell_type": "markdown",
   "metadata": {},
   "source": [
    "##### 6.2.3 Probleme für den Einsatz von HMM\n",
    "Trellis\n",
    "\n",
    "<img src = \"images/hmm_trellis.jpg\" width=\"500\" style=\"float: left;\">"
   ]
  },
  {
   "cell_type": "markdown",
   "metadata": {},
   "source": [
    "Vorwärtswahrscheinlichkeit\n",
    "\n",
    "<img src = \"images/hmm_forward.jpg\" width=\"500\" style=\"float: left;\">"
   ]
  },
  {
   "cell_type": "markdown",
   "metadata": {},
   "source": [
    "Viterbi-Algorithmus\n",
    "\n",
    "<img src = \"images/hmm_viterbi.jpg\" width=\"500\" style=\"float: left;\">"
   ]
  },
  {
   "cell_type": "markdown",
   "metadata": {},
   "source": [
    "Rückwärtswahrscheinlichkeit\n",
    "\n",
    "<img src = \"images/hmm_backward.jpg\" width=\"500\" style=\"float: left;\">"
   ]
  }
 ],
 "metadata": {
  "kernelspec": {
   "display_name": "Python 3",
   "language": "python",
   "name": "python3"
  },
  "language_info": {
   "codemirror_mode": {
    "name": "ipython",
    "version": 3
   },
   "file_extension": ".py",
   "mimetype": "text/x-python",
   "name": "python",
   "nbconvert_exporter": "python",
   "pygments_lexer": "ipython3",
   "version": "3.6.5"
  }
 },
 "nbformat": 4,
 "nbformat_minor": 1
}
