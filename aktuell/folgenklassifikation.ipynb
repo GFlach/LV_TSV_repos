{
 "cells": [
  {
   "cell_type": "markdown",
   "metadata": {},
   "source": [
    "[Table of Contents](table_of_contents.ipynb)"
   ]
  },
  {
   "cell_type": "code",
   "execution_count": null,
   "metadata": {
    "collapsed": true
   },
   "outputs": [],
   "source": [
    "%matplotlib\n",
    "%pylab inline\n",
    "import numpy as np\n",
    "import matplotlib.pyplot as plt"
   ]
  },
  {
   "cell_type": "markdown",
   "metadata": {},
   "source": [
    "## 6 Folgenklassifikation"
   ]
  },
  {
   "cell_type": "markdown",
   "metadata": {
    "collapsed": true
   },
   "source": [
    "#### 6.1 Dynamische Optimierung\n",
    "#### 6.2 Hidden Markov Modelle\n",
    "##### 6.2.1 Beschreibung eines HMM\n",
    "##### 6.2.2 Aufbau von HMM für die Spracherkennung\n",
    "\n",
    "<img src=\"images/hmm.jpg\" height=\"300\" width=\"500\" style=\"float: left;\">\n",
    "<img src=\"images/hmm_linmod.jpg\" height=\"300\" width=\"500\" style=\"float: left;\">\n",
    "<img src=\"images/hmm_liremod.jpg\" height=\"300\" width=\"500\" style=\"float: left;\">\n",
    "<img src=\"images/hmm_bakismod.jpg\" height=\"300\" width=\"500\" style=\"float: left;\">\n",
    "\n"
   ]
  },
  {
   "cell_type": "markdown",
   "metadata": {
    "collapsed": true
   },
   "source": [
    "##### 6.2.3 Diskrete und kontinuierliche HMM\n",
    "<img src=\"images/hmm_cd.jpg\" height=\"300\" width=\"500\" style=\"float: left;\">\n",
    "<img src=\"images/hmm_dd.jpg\" height=\"300\" width=\"500\" style=\"float: left;\">"
   ]
  },
  {
   "cell_type": "markdown",
   "metadata": {},
   "source": [
    "##### 6.2.4 Probleme für den Einsatz von HMM\n",
    "##### 6.2.5 Berechnung der Produktionswahrscheinlichkeit"
   ]
  },
  {
   "cell_type": "code",
   "execution_count": null,
   "metadata": {
    "collapsed": true
   },
   "outputs": [],
   "source": []
  }
 ],
 "metadata": {
  "kernelspec": {
   "display_name": "Python 3",
   "language": "python",
   "name": "python3"
  },
  "language_info": {
   "codemirror_mode": {
    "name": "ipython",
    "version": 3
   },
   "file_extension": ".py",
   "mimetype": "text/x-python",
   "name": "python",
   "nbconvert_exporter": "python",
   "pygments_lexer": "ipython3",
   "version": "3.6.0"
  }
 },
 "nbformat": 4,
 "nbformat_minor": 1
}
