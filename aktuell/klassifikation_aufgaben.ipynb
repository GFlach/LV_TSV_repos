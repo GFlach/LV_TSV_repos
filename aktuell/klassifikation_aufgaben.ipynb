{
 "cells": [
  {
   "cell_type": "markdown",
   "metadata": {},
   "source": [
    "[Table of Contents](table_of_contents.ipynb)"
   ]
  },
  {
   "cell_type": "markdown",
   "metadata": {},
   "source": [
    "### Aufgaben Klassifikation\n",
    "In diesem Abschnitt werden Klassifikatoren entwickelt und getestet. Es werden Abstandsklassifikatoren und statistische Klassifikatoren betrachtet. Die Daten wurden zum Teil im Abschnitt \"Wiederholung Wahrscheinlichkeitsrechnung\" erzeugt."
   ]
  },
  {
   "cell_type": "markdown",
   "metadata": {},
   "source": [
    "[Aufgabe 1](klassifikation_aufgaben-a1.ipynb)\n",
    "\n",
    "[Aufgabe 2](klassifikation_aufgaben-a2.ipynb)"
   ]
  },
  {
   "cell_type": "markdown",
   "metadata": {},
   "source": [
    "### Beispiele Klassifikation\n",
    "In diesem Abschnitt werden spezielle Probleme der Klassifikatoren anhand von Beispielen veranschaulicht."
   ]
  },
  {
   "cell_type": "markdown",
   "metadata": {},
   "source": [
    "[Beispiel 1](mle.ipynb)"
   ]
  }
 ],
 "metadata": {
  "kernelspec": {
   "display_name": "Python 3",
   "language": "python",
   "name": "python3"
  },
  "language_info": {
   "codemirror_mode": {
    "name": "ipython",
    "version": 3
   },
   "file_extension": ".py",
   "mimetype": "text/x-python",
   "name": "python",
   "nbconvert_exporter": "python",
   "pygments_lexer": "ipython3",
   "version": "3.6.3"
  }
 },
 "nbformat": 4,
 "nbformat_minor": 1
}
