{
 "cells": [
  {
   "cell_type": "markdown",
   "metadata": {},
   "source": [
    "[Table of Contents](table_of_contents.ipynb)"
   ]
  },
  {
   "cell_type": "markdown",
   "metadata": {
    "collapsed": true
   },
   "source": [
    "### Aufgaben Merkmale\n",
    "In diesem Abschnitt werden Merkalvektorfolgen für Sprachsignale (Wörter bzw. charakteristische Signalabschnitte) erzeugt. Folgende Merkmale sollen ermittelt werden:\n",
    "- Kurzeitspektrum\n",
    "- Mel-Spektrum\n",
    "- Cepstrum\n",
    "\n",
    "Weiterhin soll der Einfluss von Zeitfensterform, -dauer und Überlappung untersucht werden."
   ]
  },
  {
   "cell_type": "markdown",
   "metadata": {},
   "source": [
    "[Aufgabe 1](merkmale_aufgaben-a1.ipynb)\n",
    "\n",
    "[Aufgabe 2](merkmale_aufgaben-a2.ipynb)\n",
    "\n",
    "[Aufgabe 3](merkmale_aufgaben-a3.ipynb)"
   ]
  }
 ],
 "metadata": {
  "kernelspec": {
   "display_name": "Python 3",
   "language": "python",
   "name": "python3"
  },
  "language_info": {
   "codemirror_mode": {
    "name": "ipython",
    "version": 3
   },
   "file_extension": ".py",
   "mimetype": "text/x-python",
   "name": "python",
   "nbconvert_exporter": "python",
   "pygments_lexer": "ipython3",
   "version": "3.6.5"
  }
 },
 "nbformat": 4,
 "nbformat_minor": 1
}
