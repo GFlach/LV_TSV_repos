{
 "cells": [
  {
   "cell_type": "markdown",
   "metadata": {},
   "source": [
    "[Table of Contents](table_of_contents.ipynb)"
   ]
  },
  {
   "cell_type": "code",
   "execution_count": null,
   "metadata": {},
   "outputs": [],
   "source": [
    "%matplotlib\n",
    "%pylab inline\n",
    "import numpy as np\n",
    "import matplotlib.pyplot as plt"
   ]
  },
  {
   "cell_type": "markdown",
   "metadata": {},
   "source": [
    "### Maximum Likelihood Estimator"
   ]
  },
  {
   "cell_type": "markdown",
   "metadata": {},
   "source": [
    "Für ein Modell einer Klassifikationsaufgabe sollen die passenden Parameter aus (klassifizierten) Daten geschätzt werden, die das Problem und nicht nur die Stichprobe beschreiben. Für eine Normalverteilung wären diese Paramter die Größen $\\mu$ und $\\sigma$."
   ]
  },
  {
   "cell_type": "markdown",
   "metadata": {},
   "source": [
    "$$\n",
    "p(x; \\mu, \\sigma) = \\frac{1}{\\sqrt{2 \\pi} \\sigma}e^{-\\frac{(x- \\mu)^{2}}{2 \\sigma^{2}}}\n",
    "$$"
   ]
  },
  {
   "cell_type": "markdown",
   "metadata": {},
   "source": [
    "Wahrscheinlichkeit des Wertes 3 bei normalverteilten Daten mit $\\mu = 3 $ und $\\sigma = 1$."
   ]
  },
  {
   "cell_type": "code",
   "execution_count": null,
   "metadata": {},
   "outputs": [],
   "source": [
    "def pdf(x, mu, sigma):\n",
    "    wk = 1/(np.sqrt(2*np.pi) * sigma) * np.exp(-(x - mu)**2/(2*sigma**2))\n",
    "    return wk"
   ]
  },
  {
   "cell_type": "code",
   "execution_count": null,
   "metadata": {},
   "outputs": [],
   "source": [
    "x = np.linspace(0,10,1000)\n",
    "d1 = pdf(x,3,1)\n",
    "d2 = pdf(x,5,2)\n",
    "plt.plot(x, d1, x, d2)\n",
    "s = np.array([1,3,6,7,8])\n",
    "v = np.array([0,0,0,0,0])\n",
    "plt.plot(s,v, 'r*')\n",
    "plt.show()"
   ]
  },
  {
   "cell_type": "code",
   "execution_count": null,
   "metadata": {},
   "outputs": [],
   "source": [
    "ll_1 = 0\n",
    "ll_2 = 0\n",
    "for i in s:\n",
    "    ll_1 += np.log(pdf(i, 3, 1))\n",
    "    ll_2 += np.log(pdf(i, 5, 2)) \n",
    "print('The LL of of x for mu = %d and sd = %d is: %.4f' % (3, 1, ll_1))\n",
    "print('The LL of of x for mu = %d and sd = %d is: %.4f' % (5, 2, ll_2)) "
   ]
  },
  {
   "cell_type": "markdown",
   "metadata": {},
   "source": [
    "$$\n",
    "log(f(x; \\mu, \\sigma)) = -\\frac{n}{2} \\cdot log(2 \\pi) -\\frac{n}{2} \\cdot log(\\sigma^{2} -\\frac{1}{\\sigma^{2}}\\sum_{i=1}^{n}(x-\\mu)^{2})\n",
    "$$"
   ]
  }
 ],
 "metadata": {
  "kernelspec": {
   "display_name": "Python 3",
   "language": "python",
   "name": "python3"
  },
  "language_info": {
   "codemirror_mode": {
    "name": "ipython",
    "version": 3
   },
   "file_extension": ".py",
   "mimetype": "text/x-python",
   "name": "python",
   "nbconvert_exporter": "python",
   "pygments_lexer": "ipython3",
   "version": "3.6.3"
  }
 },
 "nbformat": 4,
 "nbformat_minor": 1
}
