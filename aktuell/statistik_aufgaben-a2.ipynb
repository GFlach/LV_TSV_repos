{
 "cells": [
  {
   "cell_type": "markdown",
   "metadata": {},
   "source": [
    "[Aufgaben](statistik_aufgaben.ipynb)"
   ]
  },
  {
   "cell_type": "code",
   "execution_count": null,
   "metadata": {
    "collapsed": false
   },
   "outputs": [],
   "source": [
    "%matplotlib\n",
    "%pylab inline\n",
    "import numpy as np\n",
    "import matplotlib.pyplot as plt"
   ]
  },
  {
   "cell_type": "code",
   "execution_count": null,
   "metadata": {
    "collapsed": true
   },
   "outputs": [],
   "source": [
    "import functions.sda_help as sh\n",
    "import functions.PrettyTable as pt"
   ]
  },
  {
   "cell_type": "code",
   "execution_count": null,
   "metadata": {
    "collapsed": true
   },
   "outputs": [],
   "source": [
    "printinfo = []\n",
    "head = ['File', 'anz', 'Komponente 1', 'min', 'max', '$\\mu$1', '$\\sigma$1','Komponente 2', 'min', 'max', '$\\mu$2', '$\\sigma$2']"
   ]
  },
  {
   "cell_type": "markdown",
   "metadata": {},
   "source": [
    "#### Aufgabe 2.1\n",
    "Erzeugen Sie zweidimensionale Daten unterschiedlicher Zufallsprozesse. Diese werden als einfache und als Scatterplots dargestellt."
   ]
  },
  {
   "cell_type": "markdown",
   "metadata": {},
   "source": [
    "#### <font color=\"#FF0000\">Eingabezelle Komponente 1</font>"
   ]
  },
  {
   "cell_type": "code",
   "execution_count": null,
   "metadata": {
    "collapsed": true
   },
   "outputs": [],
   "source": [
    "anz1 =  1000 # Anzahl der Zufallszahlen\n",
    "min_z = 0   # kleinster Wert\n",
    "max_z = 100 # größter Wert\n",
    "mean_z = 50   # Mittelwert\n",
    "sigma_z = 5  # Standardabweichung\n",
    "wfac = 0.4\n",
    "vt = 'norm'"
   ]
  },
  {
   "cell_type": "code",
   "execution_count": null,
   "metadata": {
    "collapsed": false
   },
   "outputs": [],
   "source": [
    "k1 = sh.generate_data(anz1, min_z, max_z, mean_z, sigma_z, vt)\n",
    "info = [anz1, vt, min_z, max_z, mean_z, sigma_z]"
   ]
  },
  {
   "cell_type": "code",
   "execution_count": null,
   "metadata": {
    "collapsed": false
   },
   "outputs": [],
   "source": [
    "plt.plot(k1)"
   ]
  },
  {
   "cell_type": "markdown",
   "metadata": {},
   "source": [
    "#### <font color=\"#FF0000\">Eingabezelle Komponente 2</font>"
   ]
  },
  {
   "cell_type": "code",
   "execution_count": null,
   "metadata": {
    "collapsed": true
   },
   "outputs": [],
   "source": [
    "anz2 =  1000  # Anzahl der Zufallszahlen\n",
    "min_z = 0   # kleinster Wert\n",
    "max_z = 30 # größter Wert\n",
    "mean_z = 75   # Mittelwert\n",
    "sigma_z = 5  # Standardabweichung\n",
    "wfac = 0.4\n",
    "vt = 'randnum'"
   ]
  },
  {
   "cell_type": "code",
   "execution_count": null,
   "metadata": {
    "collapsed": true
   },
   "outputs": [],
   "source": [
    "if anz1 != anz2:\n",
    "    print('*** Fehler *** Anzahl nicht gleich')\n",
    "else:\n",
    "    k2 = sh.generate_data(anz2, min_z, max_z, mean_z, sigma_z, vt)\n",
    "    test_data = np.append(k1, k2).reshape(2, anz1)\n",
    "    info = info + [vt, min_z, max_z, mean_z, sigma_z]"
   ]
  },
  {
   "cell_type": "code",
   "execution_count": null,
   "metadata": {
    "collapsed": false
   },
   "outputs": [],
   "source": [
    "plt.plot(k1)"
   ]
  },
  {
   "cell_type": "code",
   "execution_count": null,
   "metadata": {
    "collapsed": false
   },
   "outputs": [],
   "source": [
    "plt.scatter(test_data[0],test_data[1], marker = '+')\n",
    "plt.title('Scatterplot')\n",
    "plt.xlabel('Komponente 1')\n",
    "plt.ylabel('Komponente 2')\n",
    "plt.grid()\n",
    "plt.show()"
   ]
  },
  {
   "cell_type": "markdown",
   "metadata": {},
   "source": [
    "#### Aufgabe 2.2\n",
    "Speichern Sie die zweidimensiomalen Daten unter einem vorgegebenen Namen ab.\n",
    "Erzeugen Sie mehrere Datensätze durch wiederholte Abarbeitung ab `Eingabezelle Komponente 1` und notieren Sie sich die relevanten Informationen aus der in der letzten Zelle erzeugten Tabelle."
   ]
  },
  {
   "cell_type": "markdown",
   "metadata": {},
   "source": [
    "#### <font color=\"#FF0000\">Eingabezelle</font>"
   ]
  },
  {
   "cell_type": "code",
   "execution_count": null,
   "metadata": {
    "collapsed": true
   },
   "outputs": [],
   "source": [
    "name = 'file3'"
   ]
  },
  {
   "cell_type": "code",
   "execution_count": null,
   "metadata": {
    "collapsed": true
   },
   "outputs": [],
   "source": [
    "dname = 'data/' + name + '.npy'\n",
    "np.save(dname, test_data)"
   ]
  },
  {
   "cell_type": "code",
   "execution_count": null,
   "metadata": {
    "collapsed": true
   },
   "outputs": [],
   "source": [
    "info = [name] + info\n",
    "printinfo.append(info)"
   ]
  },
  {
   "cell_type": "code",
   "execution_count": null,
   "metadata": {
    "collapsed": false,
    "scrolled": true
   },
   "outputs": [],
   "source": [
    "pt.PrettyTable(printinfo, head)"
   ]
  }
 ],
 "metadata": {
  "kernelspec": {
   "display_name": "Python 3",
   "language": "python",
   "name": "python3"
  },
  "language_info": {
   "codemirror_mode": {
    "name": "ipython",
    "version": 3
   },
   "file_extension": ".py",
   "mimetype": "text/x-python",
   "name": "python",
   "nbconvert_exporter": "python",
   "pygments_lexer": "ipython3",
   "version": "3.6.0"
  }
 },
 "nbformat": 4,
 "nbformat_minor": 1
}
