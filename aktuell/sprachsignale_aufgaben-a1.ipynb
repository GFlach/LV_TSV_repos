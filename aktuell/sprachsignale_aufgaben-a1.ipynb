{
 "cells": [
  {
   "cell_type": "markdown",
   "metadata": {},
   "source": [
    "[Aufgaben](sprachsignale_aufgaben.ipynb)"
   ]
  },
  {
   "cell_type": "code",
   "execution_count": 16,
   "metadata": {},
   "outputs": [],
   "source": [
    "import functions.tsv_helper as th\n",
    "import functions.PrettyTable as pt"
   ]
  },
  {
   "cell_type": "markdown",
   "metadata": {},
   "source": [
    "#### Aufgabe 1\n",
    "Ermitteln Sie mehrmalig für je 7 zufällig ausgewählte Realisierungen folgende Größen:\n",
    "\n",
    "- Dateiname\n",
    "- Wort\n",
    "- Abtastfrequenz\n",
    "- Datenformat\n",
    "- Anzahl ATW\n",
    "- Häufigkeit\n",
    "- Dauer\n",
    "- Maximum\n",
    "- Minimum\n",
    "\n",
    "Welche Aussagen können anhand der Ergebnisse getroffen werden?"
   ]
  },
  {
   "cell_type": "code",
   "execution_count": 23,
   "metadata": {},
   "outputs": [],
   "source": [
    "head = ['Dateiname', 'Wort', 'fS', 'Format', 'Anz. ATW', 'Häufigkeit', 'Dauer [s]', 'Maximum','Minimum']"
   ]
  },
  {
   "cell_type": "markdown",
   "metadata": {},
   "source": [
    "#### <font color=\"#FF0000\">Eingabezelle</font>"
   ]
  },
  {
   "cell_type": "code",
   "execution_count": 28,
   "metadata": {},
   "outputs": [],
   "source": [
    "filelist = [15,23,31,47,145,156,177]"
   ]
  },
  {
   "cell_type": "code",
   "execution_count": 29,
   "metadata": {},
   "outputs": [
    {
     "data": {
      "text/html": [
       "<table><tr><td>Dateiname</td><td>Wort</td><td>fS</td><td>Format</td><td>Anz. ATW</td><td>Häufigkeit</td><td>Dauer [s]</td><td>Maximum</td><td>Minimum</td></tr><tr><td>15</td><td>gants</td><td>44100</td><td>int16</td><td>23040</td><td>24</td><td>0.522</td><td>14299</td><td>-17134</td></tr><tr><td>23</td><td>jeuvideo</td><td>44100</td><td>int16</td><td>49664</td><td>20</td><td>1.126</td><td>5641</td><td>-6200</td></tr><tr><td>31</td><td>sofoot</td><td>44100</td><td>int16</td><td>65536</td><td>20</td><td>1.486</td><td>9571</td><td>-11393</td></tr><tr><td>47</td><td>zidane</td><td>44100</td><td>int16</td><td>51200</td><td>18</td><td>1.161</td><td>12058</td><td>-13211</td></tr><tr><td>145</td><td>ballon</td><td>44100</td><td>int16</td><td>32256</td><td>18</td><td>0.731</td><td>21473</td><td>-19415</td></tr><tr><td>156</td><td>ballon</td><td>44100</td><td>int16</td><td>20480</td><td>18</td><td>0.464</td><td>9189</td><td>-12342</td></tr><tr><td>177</td><td>stade</td><td>44100</td><td>int16</td><td>47616</td><td>26</td><td>1.08</td><td>16568</td><td>-21731</td></tr></table>"
      ],
      "text/latex": [
       "\\begin{longtable}[c]{@{}lllllllll@{}}\n",
       "\\toprule\\addlinespace\n",
       "Dateiname & Wort & fS & Format & Anz. ATW & Häufigkeit & Dauer [s] & Maximum & Minimum\\\\\\addlinespace \n",
       "\\midrule\\endhead\n",
       "15 & gants & 44100 & int16 & 23040 & 24 & 0.522 & 14299 & -17134\\\\\\addlinespace \n",
       "23 & jeuvideo & 44100 & int16 & 49664 & 20 & 1.126 & 5641 & -6200\\\\\\addlinespace \n",
       "31 & sofoot & 44100 & int16 & 65536 & 20 & 1.486 & 9571 & -11393\\\\\\addlinespace \n",
       "47 & zidane & 44100 & int16 & 51200 & 18 & 1.161 & 12058 & -13211\\\\\\addlinespace \n",
       "145 & ballon & 44100 & int16 & 32256 & 18 & 0.731 & 21473 & -19415\\\\\\addlinespace \n",
       "156 & ballon & 44100 & int16 & 20480 & 18 & 0.464 & 9189 & -12342\\\\\\addlinespace \n",
       "177 & stade & 44100 & int16 & 47616 & 26 & 1.08 & 16568 & -21731\\\\\\addlinespace \n",
       "\\bottomrule \n",
       " \\end{longtable}"
      ],
      "text/plain": [
       "[['Dateiname',\n",
       "  'Wort',\n",
       "  'fS',\n",
       "  'Format',\n",
       "  'Anz. ATW',\n",
       "  'Häufigkeit',\n",
       "  'Dauer [s]',\n",
       "  'Maximum',\n",
       "  'Minimum'],\n",
       " [15, 'gants', 44100, dtype('int16'), 23040, 24, 0.522, 14299, -17134],\n",
       " [23, 'jeuvideo', 44100, dtype('int16'), 49664, 20, 1.126, 5641, -6200],\n",
       " [31, 'sofoot', 44100, dtype('int16'), 65536, 20, 1.486, 9571, -11393],\n",
       " [47, 'zidane', 44100, dtype('int16'), 51200, 18, 1.161, 12058, -13211],\n",
       " [145, 'ballon', 44100, dtype('int16'), 32256, 18, 0.731, 21473, -19415],\n",
       " [156, 'ballon', 44100, dtype('int16'), 20480, 18, 0.464, 9189, -12342],\n",
       " [177, 'stade', 44100, dtype('int16'), 47616, 26, 1.08, 16568, -21731]]"
      ]
     },
     "execution_count": 29,
     "metadata": {},
     "output_type": "execute_result"
    }
   ],
   "source": [
    "info_data = []\n",
    "for file in (filelist):\n",
    "    info_data.append(th.get_info(file))\n",
    "pt.PrettyTable(info_data, head)"
   ]
  }
 ],
 "metadata": {
  "kernelspec": {
   "display_name": "Python 3",
   "language": "python",
   "name": "python3"
  },
  "language_info": {
   "codemirror_mode": {
    "name": "ipython",
    "version": 3
   },
   "file_extension": ".py",
   "mimetype": "text/x-python",
   "name": "python",
   "nbconvert_exporter": "python",
   "pygments_lexer": "ipython3",
   "version": "3.6.5"
  }
 },
 "nbformat": 4,
 "nbformat_minor": 1
}
