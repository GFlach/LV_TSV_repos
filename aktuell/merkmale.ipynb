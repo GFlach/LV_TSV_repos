{
 "cells": [
  {
   "cell_type": "markdown",
   "metadata": {},
   "source": [
    "[Table of Contents](table_of_contents.ipynb)"
   ]
  },
  {
   "cell_type": "markdown",
   "metadata": {},
   "source": [
    "## 4 Merkmale"
   ]
  },
  {
   "cell_type": "markdown",
   "metadata": {
    "collapsed": true
   },
   "source": [
    "#### 4.1 Eigenschaften des Sprachsignals\n",
    "#### 4.2 Kriterien zur Merkmalauswahl\n",
    "#### 4.3 Digitalisierung\n",
    "#### 4.4 Fensterung\n",
    "<img src=\"images/zeitfenster.jpg\" height=\"300\" width=\"600\" style=\"float: left;\">\n",
    "<img src=\"images/zeitfenster2.jpg\" height=\"300\" width=\"600\" style=\"float: left;\">"
   ]
  },
  {
   "cell_type": "markdown",
   "metadata": {
    "collapsed": true
   },
   "source": [
    "#### 4.5 Zeitbereichsmerkmale\n",
    "<img src=\"images/kurzzeitenergie.jpg\" height=\"300\" width=\"600\" style=\"float: left;\">\n",
    "<img src=\"images/akf.jpg\" height=\"300\" width=\"600\" style=\"float: left;\">"
   ]
  },
  {
   "cell_type": "markdown",
   "metadata": {},
   "source": [
    "#### 4.6 Merkmale im Frequenzbereich\n",
    "<img src=\"images/akf2.jpg\" height=\"300\" width=\"600\" style=\"float: left;\">\n",
    "<img src=\"images/filterbank.jpg\" height=\"300\" width=\"600\" style=\"float: left;\">\n",
    "<img src=\"images/spektren.JPG\" height=\"300\" width=\"600\" style=\"float: left;\">"
   ]
  },
  {
   "cell_type": "markdown",
   "metadata": {},
   "source": [
    "#### 4.7 Cepstrumkoeffizienten\n",
    "<img src=\"images/cepstrum.jpg\" height=\"300\" width=\"600\" style=\"float: left;\">"
   ]
  },
  {
   "cell_type": "markdown",
   "metadata": {},
   "source": [
    "#### 4.8 Lineare Vorhersage\n",
    "#### 4.9 Dynamische Aspekte"
   ]
  },
  {
   "cell_type": "markdown",
   "metadata": {
    "collapsed": true
   },
   "source": [
    "[Demostration Merkmale](merkmale_test.ipynb)"
   ]
  },
  {
   "cell_type": "markdown",
   "metadata": {},
   "source": [
    "[Aufgaben Merkmale](merkmale_aufgaben.ipynb)"
   ]
  }
 ],
 "metadata": {
  "kernelspec": {
   "display_name": "Python 3",
   "language": "python",
   "name": "python3"
  },
  "language_info": {
   "codemirror_mode": {
    "name": "ipython",
    "version": 3
   },
   "file_extension": ".py",
   "mimetype": "text/x-python",
   "name": "python",
   "nbconvert_exporter": "python",
   "pygments_lexer": "ipython3",
   "version": "3.6.5"
  }
 },
 "nbformat": 4,
 "nbformat_minor": 1
}
