{
 "cells": [
  {
   "cell_type": "markdown",
   "metadata": {},
   "source": [
    "[Aufgaben](statistik_aufgaben.ipynb)"
   ]
  },
  {
   "cell_type": "code",
   "execution_count": null,
   "metadata": {},
   "outputs": [],
   "source": [
    "%matplotlib\n",
    "%pylab inline\n",
    "import numpy as np\n",
    "import matplotlib.pyplot as plt\n",
    "import functions.sda_help as sh"
   ]
  },
  {
   "cell_type": "markdown",
   "metadata": {},
   "source": [
    "#### Aufgabe 3\n",
    "Stellen Sie die in Aufgabe 2 erzeugten Daten dar."
   ]
  },
  {
   "cell_type": "markdown",
   "metadata": {},
   "source": [
    "#### <font color=\"#FF0000\">Eingabezelle</font>"
   ]
  },
  {
   "cell_type": "code",
   "execution_count": null,
   "metadata": {},
   "outputs": [],
   "source": [
    "name1 = '25x85'\n",
    "name2 = '85x25'\n",
    "name3 = '25x25'"
   ]
  },
  {
   "cell_type": "code",
   "execution_count": null,
   "metadata": {},
   "outputs": [],
   "source": [
    "dname1 = 'data/' + name1 + '.npy'\n",
    "dname2 = 'data/' + name2 + '.npy'\n",
    "dname3 = 'data/' + name3 + '.npy'\n",
    "d1 = np.load(dname1)\n",
    "d2 = np.load(dname2)\n",
    "d3 = np.load(dname3)\n",
    "plt.scatter(d1[0],d1[1], marker = '+', label='Klasse 1')\n",
    "plt.scatter(d2[0],d2[1], marker = '+', label='Klasse 2')\n",
    "plt.scatter(d3[0],d3[1], marker = '+', label='Klasse 3')\n",
    "plt.xlabel('Komponente 1')\n",
    "plt.ylabel('Komponente 2')\n",
    "plt.legend()\n",
    "plt.grid()\n",
    "plt.savefig('data_images\\\\Verteilung1.jpg')\n",
    "plt.show()\n"
   ]
  }
 ],
 "metadata": {
  "kernelspec": {
   "display_name": "Python 3",
   "language": "python",
   "name": "python3"
  },
  "language_info": {
   "codemirror_mode": {
    "name": "ipython",
    "version": 3
   },
   "file_extension": ".py",
   "mimetype": "text/x-python",
   "name": "python",
   "nbconvert_exporter": "python",
   "pygments_lexer": "ipython3",
   "version": "3.6.5"
  }
 },
 "nbformat": 4,
 "nbformat_minor": 1
}
