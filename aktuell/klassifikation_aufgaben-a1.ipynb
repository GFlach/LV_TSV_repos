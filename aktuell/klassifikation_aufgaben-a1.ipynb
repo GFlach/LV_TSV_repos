{
 "cells": [
  {
   "cell_type": "markdown",
   "metadata": {},
   "source": [
    "[Aufgaben](klassifikation_aufgaben.ipynb)"
   ]
  },
  {
   "cell_type": "code",
   "execution_count": null,
   "metadata": {
    "collapsed": false
   },
   "outputs": [],
   "source": [
    "%matplotlib inline\n",
    "%pylab inline\n",
    "import matplotlib.pyplot as plt\n",
    "import numpy as np"
   ]
  },
  {
   "cell_type": "markdown",
   "metadata": {},
   "source": [
    "#### Aufgabe 1\n",
    "Objekte sollen anhand eines Merkmals (Ausprägung zwischen 0 und 10) in 2 Klassen eingeteilt werden. Es wird ein statistischer Ansatz gewählt.\n",
    "\n",
    "Untersuchen Sie die Zugehörigkeit vorgegebener Objekte."
   ]
  },
  {
   "cell_type": "markdown",
   "metadata": {},
   "source": [
    "#### <font color=\"#FF0000\">Eingabezelle</font>\n",
    "Mittelwert und Standardabweichung für 2 Klassen (eindimensionales Merkmal; $0 \\leq x \\leq 10$)"
   ]
  },
  {
   "cell_type": "code",
   "execution_count": null,
   "metadata": {
    "collapsed": true
   },
   "outputs": [],
   "source": [
    "mu1 = 2\n",
    "mu2 = 5\n",
    "sig1 = 2\n",
    "sig2 = 3"
   ]
  },
  {
   "cell_type": "markdown",
   "metadata": {},
   "source": [
    "#### <font color=\"#FF0000\">Eingabezelle</font>\n",
    "zu klassifizierender Merkmalvektor"
   ]
  },
  {
   "cell_type": "code",
   "execution_count": null,
   "metadata": {
    "collapsed": true
   },
   "outputs": [],
   "source": [
    "m1 = 4"
   ]
  },
  {
   "cell_type": "code",
   "execution_count": null,
   "metadata": {
    "collapsed": false
   },
   "outputs": [],
   "source": [
    "max_x = 10\n",
    "steps = 1000\n",
    "x = np.linspace(0,max_x,1000)\n",
    "y1 = 1/(sig1*np.sqrt(2*np.pi))*np.exp(-(x-mu1)**2/sig1**2)\n",
    "y2 = 1/(sig2*np.sqrt(2*np.pi))*np.exp(-(x-mu2)**2/sig2**2)\n",
    "a = np.argmin(abs(y1-y2))\n",
    "ax = plt.subplot(111)\n",
    "plt.plot(x,y1, label='k1')\n",
    "plt.plot(x,y2, label='k2')\n",
    "plt.plot([a*max_x/steps,a*max_x/steps],[0,y1[a]], label='TF')\n",
    "plt.title('Statistische Klassifikation')\n",
    "ax.plot([m1,m1],[0,max(y1[int(m1*steps/max_x)],y2[int(m1*steps/max_x)])], label='MV')\n",
    "plt.legend()\n",
    "plt.grid()"
   ]
  },
  {
   "cell_type": "code",
   "execution_count": null,
   "metadata": {
    "collapsed": false
   },
   "outputs": [],
   "source": [
    "print('Zugehörigkeit k1: ' + str(np.round(y1[int(m1*steps/max_x)],3)) + '; Zugehörigkeit k2: ' + str(np.round(y2[int(m1*steps/max_x)],3)))"
   ]
  }
 ],
 "metadata": {
  "kernelspec": {
   "display_name": "Python 3",
   "language": "python",
   "name": "python3"
  },
  "language_info": {
   "codemirror_mode": {
    "name": "ipython",
    "version": 3
   },
   "file_extension": ".py",
   "mimetype": "text/x-python",
   "name": "python",
   "nbconvert_exporter": "python",
   "pygments_lexer": "ipython3",
   "version": "3.6.0"
  }
 },
 "nbformat": 4,
 "nbformat_minor": 1
}
