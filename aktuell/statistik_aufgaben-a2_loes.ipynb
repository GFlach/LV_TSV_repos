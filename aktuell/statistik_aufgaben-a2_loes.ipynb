{
 "cells": [
  {
   "cell_type": "markdown",
   "metadata": {},
   "source": [
    "### Aufgabe 2"
   ]
  },
  {
   "cell_type": "markdown",
   "metadata": {},
   "source": [
    "- Dateiname: 85x85.npy\n",
    "- 500 Werte\n",
    "- Komponente 1: Normalverteilung $\\mu_{1} = 25$, $\\sigma_{1} = 5$\n",
    "- Komponente 2: Normalverteilung $\\mu_{2} = 85$, $\\sigma_{2} = 10$"
   ]
  },
  {
   "cell_type": "markdown",
   "metadata": {},
   "source": [
    "- Dateiname: 85x25.npy\n",
    "- 500 Werte\n",
    "- Komponente 1: Normalverteilung $\\mu_{1} = 85$, $\\sigma_{1} = 5$\n",
    "- Komponente 2: Normalverteilung $\\mu_{2} = 85$, $\\sigma_{2} = 10$"
   ]
  },
  {
   "cell_type": "markdown",
   "metadata": {},
   "source": [
    "- Dateiname: 10x10.npy\n",
    "- 50 Werte\n",
    "- Komponente 1: Normalverteilung $\\mu_{1} = 10$, $\\sigma_{1} = 5$\n",
    "- Komponente 2: Normalverteilung $\\mu_{2} = 10$, $\\sigma_{2} = 2$"
   ]
  }
 ],
 "metadata": {
  "kernelspec": {
   "display_name": "Python 3",
   "language": "python",
   "name": "python3"
  },
  "language_info": {
   "codemirror_mode": {
    "name": "ipython",
    "version": 3
   },
   "file_extension": ".py",
   "mimetype": "text/x-python",
   "name": "python",
   "nbconvert_exporter": "python",
   "pygments_lexer": "ipython3",
   "version": "3.6.5"
  }
 },
 "nbformat": 4,
 "nbformat_minor": 1
}
