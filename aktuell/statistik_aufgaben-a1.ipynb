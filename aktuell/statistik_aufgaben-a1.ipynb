{
 "cells": [
  {
   "cell_type": "markdown",
   "metadata": {},
   "source": [
    "[Aufgaben](statistik_aufgaben.ipynb)"
   ]
  },
  {
   "cell_type": "code",
   "execution_count": null,
   "metadata": {},
   "outputs": [],
   "source": [
    "%matplotlib\n",
    "%pylab inline\n",
    "import matplotlib.pyplot as plt\n",
    "import matplotlib.image as mpimg"
   ]
  },
  {
   "cell_type": "code",
   "execution_count": null,
   "metadata": {},
   "outputs": [],
   "source": [
    "import functions.sda_help as sh\n",
    "import functions.PrettyTable as pt"
   ]
  },
  {
   "cell_type": "markdown",
   "metadata": {},
   "source": [
    "Zur Untersuchung von statistischen Zusammenhängen sind zufällige Daten zu erzeugen. Dazu stehen folgende Funktionen zur Verfügung:\n",
    "\n",
    "- _randnum_ erzeugt _anz_ ganze Zufallszahlen zwischen _min_ und _max_\n",
    "- _norm_ erzeugt _anz_ ganze normalverteilte Zufallszahlen mit dem Mittelwert _mean_ und der Standardabweichung _sigma_\n",
    "\n",
    "Mit den in der folgenden Zelle eingegeben Werten werden jeweils 3 Datensätze erzeugt. Diese werden angzeigt und durch die nachfolgende Tabelle beschrieben.\n",
    "\n",
    "#### Aufgabe 1.1\n",
    "Geben Sie verschiedene Werte für die Parameter der Verteilungen ein. Betrachten Sie die in der Tabelle dargestellten Ergebnisse unterschiedlicher Versuche."
   ]
  },
  {
   "cell_type": "code",
   "execution_count": null,
   "metadata": {},
   "outputs": [],
   "source": [
    "head = ['Funktion', 'anz', 'min', 'max', '$\\mu$(Vorgabe)', '$\\sigma$(Vorgabe)', '$\\mu$', '$\\sigma$']\n",
    "data_tab = []"
   ]
  },
  {
   "cell_type": "markdown",
   "metadata": {},
   "source": [
    "#### <font color=\"#FF0000\">Eingabezelle</font>"
   ]
  },
  {
   "cell_type": "code",
   "execution_count": null,
   "metadata": {},
   "outputs": [],
   "source": [
    "anz =  100  # Anzahl der Zufallszahlen\n",
    "min_z = -50   # kleinster Wert\n",
    "max_z = 100 # größter Wert\n",
    "mu = 25   # Mittelwert\n",
    "sigma = 10  # Standardabweichung\n",
    "vt = 'randnum'"
   ]
  },
  {
   "cell_type": "code",
   "execution_count": null,
   "metadata": {},
   "outputs": [],
   "source": [
    "data_tab.append(sh.auto_generate(anz, min_z, max_z, mu, sigma, vt))"
   ]
  },
  {
   "cell_type": "code",
   "execution_count": null,
   "metadata": {},
   "outputs": [],
   "source": [
    "pt.PrettyTable(data_tab, head)"
   ]
  },
  {
   "cell_type": "markdown",
   "metadata": {},
   "source": [
    "#### Aufgabe 1.2\n",
    "Wählen Sie eine Verteilung aus und betrachten Sie das dargestellte Resultat. Das Resultat kann bei Einstellung `save=True` unter dem angegebenen Namen `name` abgespeichert werden. Mit `nv=True` wird die Normalverteilungskurve dargestellt."
   ]
  },
  {
   "cell_type": "code",
   "execution_count": null,
   "metadata": {},
   "outputs": [],
   "source": [
    "vt = 'randnum'\n",
    "save = True\n",
    "name = 'data_images\\\\randnum1.jpg'\n",
    "nv = True"
   ]
  },
  {
   "cell_type": "code",
   "execution_count": null,
   "metadata": {},
   "outputs": [],
   "source": [
    "sh.test_vt(anz, min_z, max_z, mu, sigma, vt, save, name, nv)"
   ]
  }
 ],
 "metadata": {
  "kernelspec": {
   "display_name": "Python 3",
   "language": "python",
   "name": "python3"
  },
  "language_info": {
   "codemirror_mode": {
    "name": "ipython",
    "version": 3
   },
   "file_extension": ".py",
   "mimetype": "text/x-python",
   "name": "python",
   "nbconvert_exporter": "python",
   "pygments_lexer": "ipython3",
   "version": "3.6.5"
  }
 },
 "nbformat": 4,
 "nbformat_minor": 1
}
