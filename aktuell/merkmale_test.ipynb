{
 "cells": [
  {
   "cell_type": "markdown",
   "metadata": {},
   "source": [
    "[Aufgaben](merkmale_aufgaben.ipynb)"
   ]
  },
  {
   "cell_type": "code",
   "execution_count": null,
   "metadata": {
    "scrolled": true
   },
   "outputs": [],
   "source": [
    "%matplotlib inline\n",
    "%pylab inline\n",
    "import matplotlib.pyplot as plt"
   ]
  },
  {
   "cell_type": "code",
   "execution_count": null,
   "metadata": {},
   "outputs": [],
   "source": [
    "import numpy as np\n",
    "import scipy.constants as const\n",
    "import scipy\n",
    "from scipy.io import wavfile\n",
    "from pylab import *\n",
    "from scipy.fftpack import fft, ifft\n",
    "from IPython.display import Audio"
   ]
  },
  {
   "cell_type": "code",
   "execution_count": null,
   "metadata": {},
   "outputs": [],
   "source": [
    "import functions.timedomain as td"
   ]
  },
  {
   "cell_type": "markdown",
   "metadata": {},
   "source": [
    "#### <font color=\"#FF0000\">Eingabezelle</font>"
   ]
  },
  {
   "cell_type": "code",
   "execution_count": null,
   "metadata": {},
   "outputs": [],
   "source": [
    "filename = '72'\n",
    "zf_len = 0.025\n",
    "zf_shape = 'hamm'\n",
    "overlap = 0.9\n",
    "td_data,fs = td.show_data(filename)"
   ]
  },
  {
   "cell_type": "code",
   "execution_count": null,
   "metadata": {},
   "outputs": [],
   "source": [
    "Audio(data = td_data, rate = fs) "
   ]
  },
  {
   "cell_type": "markdown",
   "metadata": {},
   "source": [
    "#### <font color=\"#FF0000\">Eingabezelle</font>"
   ]
  },
  {
   "cell_type": "code",
   "execution_count": null,
   "metadata": {},
   "outputs": [],
   "source": [
    "td.st_energy(td_data, fs, zf_len, zf_shape, overlap)"
   ]
  },
  {
   "cell_type": "code",
   "execution_count": null,
   "metadata": {},
   "outputs": [],
   "source": [
    "##### zf = 0.025   # Zeitfensterlänge\n",
    "offs = 0.01  # Zeitfensterversatz\n",
    "start_zf = 0.3\n",
    "atw_zf1 = int(start_zf * fs)    #Start ZF1\n",
    "atw_zf2 = atw_zf1 + 441    #Start ZF2\n",
    "#atw_zf3 = 18000    #Start ZF3"
   ]
  },
  {
   "cell_type": "code",
   "execution_count": null,
   "metadata": {},
   "outputs": [],
   "source": [
    "t = np.linspace(0, (n + n1)/fs, n+n1)\n",
    "plt.figure(figsize=(10,8))\n",
    "plt.subplot(311)\n",
    "n = int(round(zf * fs))\n",
    "n1 = int(round(offs * fs))\n",
    "title_name = '1. Zeitfenster'\n",
    "plt.title(title_name)\n",
    "res = np.zeros(n + n1)\n",
    "res[0:n] = numarray[atw_zf1:atw_zf1+n]\n",
    "plt.plot(t, res)\n",
    "plt.axis([0, 0.035, min(res),max(res)])\n",
    "plt.grid()\n",
    "plt.subplot(312)\n",
    "title_name = '2. Zeitfenster'\n",
    "plt.title(title_name)\n",
    "res = np.zeros(n + n1)\n",
    "res[n1:n1+n] = numarray[atw_zf2:atw_zf2+n]\n",
    "plt.subplots_adjust(hspace = 0.5)\n",
    "plt.axis([0, 0.035, min(res),max(res)])\n",
    "plt.grid()\n",
    "plt.xlabel('t in s')\n",
    "plt.plot(t, res)"
   ]
  },
  {
   "cell_type": "markdown",
   "metadata": {},
   "source": [
    "#### Zeitfensterbewertung "
   ]
  },
  {
   "cell_type": "markdown",
   "metadata": {},
   "source": [
    "#### <font color=\"#FF0000\">Eingabezelle</font>"
   ]
  },
  {
   "cell_type": "code",
   "execution_count": null,
   "metadata": {},
   "outputs": [],
   "source": [
    "#window = hanning(n)\n",
    "#wform = 'Hanning'\n",
    "window = hamming(n)\n",
    "wform = 'Hamming'\n",
    "#window = bartlett(n)\n",
    "#wform = 'Bartlett'"
   ]
  },
  {
   "cell_type": "code",
   "execution_count": null,
   "metadata": {},
   "outputs": [],
   "source": [
    "plt.figure(figsize=(10,8))\n",
    "plt.subplot(311)\n",
    "title_name = '1. Zeitfenster (bewertet)'\n",
    "plt.title(title_name)\n",
    "wdat1 = window * numarray[atw_zf1:atw_zf1+n]\n",
    "wdat2 = window * numarray[atw_zf2:atw_zf2+n]\n",
    "res = np.zeros(n + n1)\n",
    "res[0:n] = wdat1\n",
    "plt.axis([0,0.035,min(res),max(res)])\n",
    "plt.grid()\n",
    "plt.plot(t, res)\n",
    "res = np.zeros(n + n1)\n",
    "res[n1:n1+n] = wdat2\n",
    "plt.subplot(312)\n",
    "plt.subplots_adjust(hspace = 0.5)\n",
    "title_name = '2. Zeitfenster (bewertet)'\n",
    "plt.title(title_name)\n",
    "plt.axis([0,0.035,min(res),max(res)])\n",
    "plt.grid()\n",
    "plt.plot(t, res)"
   ]
  },
  {
   "cell_type": "markdown",
   "metadata": {},
   "source": [
    "### Energieberechnung für jedes Zeitfenster"
   ]
  },
  {
   "cell_type": "code",
   "execution_count": null,
   "metadata": {
    "scrolled": true
   },
   "outputs": [],
   "source": [
    "anz_zf = int(len(numarray)//n1 - 2)\n",
    "zf_e = np.zeros(anz_zf)\n",
    "for i in np.arange(anz_zf):\n",
    "    zf_e[i] = np.sum((numarray[int(i*n1):int(i*n1 + n)]* window)**2)\n",
    "plt.figure(figsize=(10,4))\n",
    "plt.title('Energieverlauf des Signals')\n",
    "t_e = np.linspace(0, len(numarray)/fs, anz_zf)\n",
    "plt.xlabel('t in s')\n",
    "plt.grid()\n",
    "plt.plot(t_e, zf_e)"
   ]
  },
  {
   "cell_type": "markdown",
   "metadata": {},
   "source": [
    "### Berechnung Autokorrelation\n",
    "bewertetes Zeitfenster"
   ]
  },
  {
   "cell_type": "code",
   "execution_count": null,
   "metadata": {},
   "outputs": [],
   "source": [
    "def autocorr(x):\n",
    "    result = numpy.correlate(x, x, mode='full')\n",
    "    return result[int(result.size/2):]\n",
    "\n",
    "t = np.linspace(0, n/fs, n)\n",
    "auto_k = autocorr(np.append(wdat1, wdat1))\n",
    "plt.figure(figsize=(10,4))\n",
    "plt.title('Autokorrelation eines Zeitfensters')\n",
    "plt.axis([0, 0.025, min(auto_k), max(auto_k)])\n",
    "plt.xlabel('Verschiebung k in s')\n",
    "plt.grid()\n",
    "plt.plot(t, auto_k[0:int(len(auto_k)/2)])"
   ]
  },
  {
   "cell_type": "code",
   "execution_count": null,
   "metadata": {},
   "outputs": [],
   "source": []
  }
 ],
 "metadata": {
  "kernelspec": {
   "display_name": "Python 3",
   "language": "python",
   "name": "python3"
  },
  "language_info": {
   "codemirror_mode": {
    "name": "ipython",
    "version": 3
   },
   "file_extension": ".py",
   "mimetype": "text/x-python",
   "name": "python",
   "nbconvert_exporter": "python",
   "pygments_lexer": "ipython3",
   "version": "3.6.5"
  }
 },
 "nbformat": 4,
 "nbformat_minor": 1
}
