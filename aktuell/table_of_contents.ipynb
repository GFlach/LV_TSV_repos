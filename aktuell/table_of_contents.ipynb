{
 "cells": [
  {
   "cell_type": "markdown",
   "metadata": {},
   "source": [
    "<center><h1>Technische Sprachverarbeitung</h1></center>\n",
    "\n",
    "## Inhaltsverzeichnis\n",
    "\n",
    "[**1 Einführung**](einfuehrung.ipynb)\n",
    "\n",
    "[**2 Wiederholung Wahrscheinlichkeitsrechnung**](statistik.ipynb)\n",
    "\n",
    "[**3 Sprachsignale**](sprachsignale.ipynb)\n",
    "\n",
    "[**4 Merkmale zur Beschreibung von Sprachlauten**](merkmale.ipynb)\n",
    "\n",
    "[**5 Klassifikation**](klassifikation.ipynb)\n",
    "\n",
    "**6 Folgenklassifikation**\n",
    "\n",
    "**7 Sprachverarbeitung**\n",
    "\n",
    "**8 Sprachsynthese**\n",
    "\n",
    "**9 Dialogsysteme**"
   ]
  }
 ],
 "metadata": {
  "kernelspec": {
   "display_name": "Python 3",
   "language": "python",
   "name": "python3"
  },
  "language_info": {
   "codemirror_mode": {
    "name": "ipython",
    "version": 3
   },
   "file_extension": ".py",
   "mimetype": "text/x-python",
   "name": "python",
   "nbconvert_exporter": "python",
   "pygments_lexer": "ipython3",
   "version": "3.6.5"
  }
 },
 "nbformat": 4,
 "nbformat_minor": 1
}
