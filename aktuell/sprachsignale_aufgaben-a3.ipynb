{
 "cells": [
  {
   "cell_type": "markdown",
   "metadata": {},
   "source": [
    "[Aufgaben](sprachsignale_aufgaben.ipynb)"
   ]
  },
  {
   "cell_type": "code",
   "execution_count": null,
   "metadata": {
    "collapsed": false
   },
   "outputs": [],
   "source": [
    "%matplotlib inline\n",
    "%pylab inline\n",
    "import matplotlib.pyplot as plt\n",
    "import numpy as np\n",
    "import scipy.constants as const\n",
    "import scipy\n",
    "from scipy.io import wavfile\n",
    "from pylab import *\n",
    "from scipy.fftpack import fft, ifft\n",
    "from IPython.display import Audio"
   ]
  },
  {
   "cell_type": "code",
   "execution_count": null,
   "metadata": {
    "collapsed": true
   },
   "outputs": [],
   "source": [
    "import functions.tsv_helper as th"
   ]
  },
  {
   "cell_type": "markdown",
   "metadata": {},
   "source": [
    "#### Aufgabe 3\n",
    "\n",
    "Erstellen Sie sich eine Datenbasis mit Beispielen für die typischen Signalabschnitte. Untersuchen Sie dazu kleinere Signalabschnitte und ermitteln Sie \n",
    "- quasistionäre Abschnitte\n",
    "- rauschhafte Abschnitte\n",
    "- Plosivlaute\n",
    "\n",
    "Speichern Sie die Informationen zu der Datenbasis in der folgenden Tabelle ab.\n",
    "\n",
    " File | Wort | Original | Signaltyp | 1.ATW | Anzahl ATW \n",
    ":-------|:-------|:-------|:-------|:-------|:-------\n"
   ]
  },
  {
   "cell_type": "markdown",
   "metadata": {
    "collapsed": true
   },
   "source": [
    "#### <font color=\"#FF0000\">Eingabezelle</font>"
   ]
  },
  {
   "cell_type": "code",
   "execution_count": null,
   "metadata": {
    "collapsed": true
   },
   "outputs": [],
   "source": [
    "file = '67'"
   ]
  },
  {
   "cell_type": "code",
   "execution_count": null,
   "metadata": {
    "collapsed": false
   },
   "outputs": [],
   "source": [
    "file_name = 'sound/' + str(file) + '.wav'\n",
    "fs, numarray = wavfile.read(file_name)\n",
    "plt.figure(figsize=(10,4))\n",
    "plt.title(file_name)\n",
    "#t = np.linspace(0, len(numarray)/fs, len(numarray))\n",
    "plot(numarray)\n",
    "plt.xlabel('t in s')\n",
    "plt.grid()\n",
    "plt.axis([0, len(numarray), min(numarray), max(numarray)])\n",
    "plt.show()"
   ]
  },
  {
   "cell_type": "code",
   "execution_count": null,
   "metadata": {
    "collapsed": false
   },
   "outputs": [],
   "source": [
    "Audio(data = numarray, rate = fs)"
   ]
  },
  {
   "cell_type": "markdown",
   "metadata": {},
   "source": [
    "#### <font color=\"#FF0000\">Eingabezelle</font>"
   ]
  },
  {
   "cell_type": "code",
   "execution_count": null,
   "metadata": {
    "collapsed": true
   },
   "outputs": [],
   "source": [
    "start = 14000\n",
    "stop = 18000"
   ]
  },
  {
   "cell_type": "code",
   "execution_count": null,
   "metadata": {
    "collapsed": false
   },
   "outputs": [],
   "source": [
    "anz = stop - start\n",
    "numarray_sel = numarray[start:stop]\n",
    "n = np.linspace(start, stop, anz)\n",
    "plt.figure(figsize=(10,4))\n",
    "plt.plot(n, numarray_sel)\n",
    "plt.grid()\n",
    "#plt.plot([0,len(data)],[0, 0], 'grey',lw=1)\n",
    "plt.axis([start, stop, min(numarray)-100, max(numarray)+100])\n",
    "plt.xlabel('Abtastwerte')\n",
    "plt.title('Sprachsignal')"
   ]
  },
  {
   "cell_type": "code",
   "execution_count": null,
   "metadata": {
    "collapsed": false
   },
   "outputs": [],
   "source": [
    "Audio(data = numarray_sel, rate = fs)"
   ]
  },
  {
   "cell_type": "markdown",
   "metadata": {},
   "source": [
    "#### <font color=\"#FF0000\">Eingabezelle</font>"
   ]
  },
  {
   "cell_type": "code",
   "execution_count": null,
   "metadata": {
    "collapsed": true
   },
   "outputs": [],
   "source": [
    "file = 'data//a1.wav'"
   ]
  },
  {
   "cell_type": "code",
   "execution_count": null,
   "metadata": {
    "collapsed": false
   },
   "outputs": [],
   "source": [
    "wavfile.write(file, fs, numarray_sel)"
   ]
  }
 ],
 "metadata": {
  "kernelspec": {
   "display_name": "Python 3",
   "language": "python",
   "name": "python3"
  },
  "language_info": {
   "codemirror_mode": {
    "name": "ipython",
    "version": 3
   },
   "file_extension": ".py",
   "mimetype": "text/x-python",
   "name": "python",
   "nbconvert_exporter": "python",
   "pygments_lexer": "ipython3",
   "version": "3.6.0"
  }
 },
 "nbformat": 4,
 "nbformat_minor": 1
}
