{
 "cells": [
  {
   "cell_type": "markdown",
   "metadata": {},
   "source": [
    "[Table of Contents](table_of_contents.ipynb)"
   ]
  },
  {
   "cell_type": "markdown",
   "metadata": {},
   "source": [
    "### 2 Wiederholung Wahrscheinlichkeitsrechnung\n",
    "#### 2.1 Begriffe\n",
    "#### 2.2 Verbundwahrscheinlichkeit\n",
    "#### 2.3 Bedingte Wahrscheinlichkeit\n",
    "#### 2.4 Satz von Bayes\n",
    "#### 2.5 Zufallsvariable\n",
    "#### 2.6 Funktion einer Zufallsvariable\n",
    "#### 2.7 Dichtefunktion\n",
    "#### 2.8 Verteilungsfunktion\n",
    "#### 2.9 Erwartungswert\n",
    "#### 2.10 Varianz und Kovarianz\n",
    "#### 2.11 Schätzfunktionen"
   ]
  },
  {
   "cell_type": "markdown",
   "metadata": {},
   "source": [
    "[Aufgaben Statistik](statistik_aufgaben.ipynb)"
   ]
  }
 ],
 "metadata": {
  "kernelspec": {
   "display_name": "Python 3",
   "language": "python",
   "name": "python3"
  },
  "language_info": {
   "codemirror_mode": {
    "name": "ipython",
    "version": 3
   },
   "file_extension": ".py",
   "mimetype": "text/x-python",
   "name": "python",
   "nbconvert_exporter": "python",
   "pygments_lexer": "ipython3",
   "version": "3.6.0"
  }
 },
 "nbformat": 4,
 "nbformat_minor": 1
}
