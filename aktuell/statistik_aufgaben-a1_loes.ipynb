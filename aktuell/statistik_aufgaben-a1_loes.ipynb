{
 "cells": [
  {
   "cell_type": "markdown",
   "metadata": {},
   "source": [
    "### Lösung Aufgabe 1"
   ]
  },
  {
   "cell_type": "markdown",
   "metadata": {},
   "source": [
    "#### Beispiele für Verteilungen\n",
    "- Verteilung: randnum\n",
    "- Anzahl Werte: 100\n",
    "- kleinster Wert: -50\n",
    "- größter Wert: 100\n",
    "- Mittelwert(berechnet): 23.84\n",
    "- Standardabweichung(berechnet): 44.33\n",
    "\n",
    "<img src=\"data_images/randnum1.jpg\"  style=\"float: left;\">"
   ]
  },
  {
   "cell_type": "markdown",
   "metadata": {},
   "source": [
    "- Verteilung: randnum\n",
    "- Anzahl Werte: 10000\n",
    "- kleinster Wert: -50\n",
    "- größter Wert: 100\n",
    "- Mittelwert(berechnet): 24.55\n",
    "- Standardabweichung(berechnet): 43.24\n",
    "\n",
    "<img src=\"data_images/randnum2.jpg\"  style=\"float: left;\">"
   ]
  },
  {
   "cell_type": "markdown",
   "metadata": {},
   "source": [
    "- Verteilung: randnum\n",
    "- Anzahl Werte: 100000\n",
    "- kleinster Wert: -50\n",
    "- größter Wert: 100\n",
    "- Mittelwert(berechnet): 24.98\n",
    "- Standardabweichung(berechnet): 43.28\n",
    "\n",
    "<img src=\"data_images/randnum3.jpg\"  style=\"float: left;\">"
   ]
  },
  {
   "cell_type": "markdown",
   "metadata": {},
   "source": [
    "- Verteilung: norm\n",
    "- Anz- ahl Werte: 100\n",
    "- Mittelwert(vorgegeben): 0\n",
    "- Standardabweichung(vorgegeben): 10\n",
    "- Mittelwert(berechnet): 1.07\n",
    "- Standardabweichung(berechnet): 8.56\n",
    "\n",
    "<img src=\"data_images/norm1.jpg\"  style=\"float: left;\">"
   ]
  },
  {
   "cell_type": "markdown",
   "metadata": {},
   "source": [
    "- Verteilung: norm\n",
    "- Anzahl Werte: 10000\n",
    "- Mittelwert(vorgegeben): 0\n",
    "- Standardabweichung(vorgegeben): 10\n",
    "- Mittelwert(berechnet): 0.02\n",
    "- Standardabweichung(berechnet): 10.02\n",
    "\n",
    "<img src=\"data_images/norm2.jpg\"  style=\"float: left;\">"
   ]
  },
  {
   "cell_type": "markdown",
   "metadata": {},
   "source": [
    "- Verteilung: norm\n",
    "- Anzahl Werte: 10000\n",
    "- Mittelwert(vorgegeben): 0\n",
    "- Standardabweichung(vorgegeben): 2\n",
    "- Mittelwert(berechnet): -0.01\n",
    "- Standardabweichung(berechnet): 1.97\n",
    "\n",
    "<img src=\"data_images/norm3.jpg\"  style=\"float: left;\">"
   ]
  }
 ],
 "metadata": {
  "kernelspec": {
   "display_name": "Python 3",
   "language": "python",
   "name": "python3"
  },
  "language_info": {
   "codemirror_mode": {
    "name": "ipython",
    "version": 3
   },
   "file_extension": ".py",
   "mimetype": "text/x-python",
   "name": "python",
   "nbconvert_exporter": "python",
   "pygments_lexer": "ipython3",
   "version": "3.6.5"
  }
 },
 "nbformat": 4,
 "nbformat_minor": 1
}
