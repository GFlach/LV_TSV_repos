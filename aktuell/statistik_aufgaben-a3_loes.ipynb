{
 "cells": [
  {
   "cell_type": "markdown",
   "metadata": {},
   "source": [
    "### Aufgabe 3"
   ]
  },
  {
   "cell_type": "markdown",
   "metadata": {},
   "source": [
    "Dateien: \n",
    "    \n",
    "25x85.npy, 85x25.npy, 25x25npy\n",
    "\n",
    "<img src = \"data_images/Verteilung1.jpg\"  style=\"float: left;\">"
   ]
  },
  {
   "cell_type": "markdown",
   "metadata": {},
   "source": [
    "Dateien: \n",
    "    \n",
    "10x10-200.npy, rnx10-200.npy, rnx10-20npy\n",
    "\n",
    "<img src = \"data_images/Verteilung2.jpg\"  style=\"float: left;\">"
   ]
  }
 ],
 "metadata": {
  "kernelspec": {
   "display_name": "Python 3",
   "language": "python",
   "name": "python3"
  },
  "language_info": {
   "codemirror_mode": {
    "name": "ipython",
    "version": 3
   },
   "file_extension": ".py",
   "mimetype": "text/x-python",
   "name": "python",
   "nbconvert_exporter": "python",
   "pygments_lexer": "ipython3",
   "version": "3.6.5"
  }
 },
 "nbformat": 4,
 "nbformat_minor": 1
}
