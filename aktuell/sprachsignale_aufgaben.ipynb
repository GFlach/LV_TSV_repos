{
 "cells": [
  {
   "cell_type": "markdown",
   "metadata": {},
   "source": [
    "[Table of Contents](table_of_contents.ipynb)"
   ]
  },
  {
   "cell_type": "markdown",
   "metadata": {
    "collapsed": true
   },
   "source": [
    "### Aufgaben Sprachsignale\n",
    "Zur Untersuchung von Sprachsignalen steht eine Sammlung von  Einzelwörtern französischer Sprecher zur Verfügung. Es handelt sich um 245 Realisierungen\n",
    "männlicher und weiblicher Sprecher.\n",
    "\n",
    " Wort | Häufigkeit | Wort | Häufigkeit |Wort | Häufigkeit | Wort | Häufigkeit\n",
    ":-------|:-------|:-------|:-------|:-------|:-------|:-------|:-------\n",
    "chaussure|27|manette|20|biere|19|gants|24\n",
    "sofoot|20|stade|26|cocacola|16|beckham|21\n",
    "jeuvideo|20|zidane|18|girondins|16|ballon|18\n",
    "\n",
    "Eine Liste der Wortnummern befindet sich [hier](sound/wavToTag_format.txt)"
   ]
  },
  {
   "cell_type": "markdown",
   "metadata": {},
   "source": [
    "[Aufgabe 1](sprachsignale_aufgaben-a1.ipynb)\n",
    "\n",
    "[Aufgabe 2](sprachsignale_aufgaben-a2.ipynb)\n",
    "\n",
    "[Aufgabe 3](sprachsignale_aufgaben-a3.ipynb)"
   ]
  }
 ],
 "metadata": {
  "kernelspec": {
   "display_name": "Python 3",
   "language": "python",
   "name": "python3"
  },
  "language_info": {
   "codemirror_mode": {
    "name": "ipython",
    "version": 3
   },
   "file_extension": ".py",
   "mimetype": "text/x-python",
   "name": "python",
   "nbconvert_exporter": "python",
   "pygments_lexer": "ipython3",
   "version": "3.6.5"
  }
 },
 "nbformat": 4,
 "nbformat_minor": 1
}
