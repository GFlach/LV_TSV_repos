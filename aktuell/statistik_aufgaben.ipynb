{
 "cells": [
  {
   "cell_type": "markdown",
   "metadata": {},
   "source": [
    "[Table of Contents](table_of_contents.ipynb)"
   ]
  },
  {
   "cell_type": "markdown",
   "metadata": {},
   "source": [
    "### Aufgaben Statistik\n",
    "\n",
    "Folgende Aufgaben dienen der Untersuchung und Veranschaulichung von statistischen Zusammenhängen."
   ]
  },
  {
   "cell_type": "markdown",
   "metadata": {},
   "source": [
    "[Aufgabe 1](statistik_aufgaben-a1.ipynb)\n",
    "\n",
    "[Aufgabe 2](statistik_aufgaben-a2.ipynb)\n",
    "\n",
    "[Aufgabe 3](statistik_aufgaben-a3.ipynb)"
   ]
  },
  {
   "cell_type": "markdown",
   "metadata": {},
   "source": [
    "[Lösung Aufgabe 1](statistik_aufgaben-a1_loes.ipynb)\n",
    "\n",
    "[Lösung Aufgabe 2](statistik_aufgaben-a2_loes.ipynb)\n",
    "\n",
    "[Lösung Aufgabe 3](statistik_aufgaben-a3_loes.ipynb)"
   ]
  }
 ],
 "metadata": {
  "kernelspec": {
   "display_name": "Python 3",
   "language": "python",
   "name": "python3"
  },
  "language_info": {
   "codemirror_mode": {
    "name": "ipython",
    "version": 3
   },
   "file_extension": ".py",
   "mimetype": "text/x-python",
   "name": "python",
   "nbconvert_exporter": "python",
   "pygments_lexer": "ipython3",
   "version": "3.6.0"
  }
 },
 "nbformat": 4,
 "nbformat_minor": 1
}
